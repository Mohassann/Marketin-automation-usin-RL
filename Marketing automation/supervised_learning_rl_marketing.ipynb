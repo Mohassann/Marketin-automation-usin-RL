{
 "cells": [
  {
   "cell_type": "code",
   "execution_count": 122,
   "metadata": {},
   "outputs": [],
   "source": [
    "import numpy as np\n",
    "import pandas as pd\n",
    "import matplotlib.pyplot as plt\n"
   ]
  },
  {
   "cell_type": "code",
   "execution_count": 123,
   "metadata": {},
   "outputs": [],
   "source": [
    "USER_OPENED = -1\n",
    "USER_IGNORED = 0\n",
    "actions = ['title_1', 'title_2', 'title_3','title_4']\n",
    "genders = ['Male', 'Female']\n",
    "time_of_days = ['morning', 'afternoon']"
   ]
  },
  {
   "cell_type": "code",
   "execution_count": 133,
   "metadata": {},
   "outputs": [],
   "source": [
    "def get_cost(context, action):\n",
    "    if context['user'] == \"Male\":\n",
    "        if context['time_of_day'] == \"morning\" and action == 'title_1':\n",
    "            return USER_OPENED\n",
    "        elif context['time_of_day'] == \"afternoon\" and action == 'title_3':\n",
    "            return USER_OPENED\n",
    "        else:\n",
    "            return USER_IGNORED\n",
    "    elif context['user'] == \"Female\":\n",
    "        if context['time_of_day'] == \"morning\" and action == 'title_2':\n",
    "            return USER_OPENED\n",
    "        elif context['time_of_day'] == \"afternoon\" and action == 'title_1':\n",
    "            return USER_OPENED\n",
    "        else:\n",
    "            return USER_IGNORED"
   ]
  },
  {
   "cell_type": "code",
   "execution_count": 134,
   "metadata": {},
   "outputs": [
    {
     "name": "stdout",
     "output_type": "stream",
     "text": [
      "{'user': 'Female', 'time_of_day': 'morning'}\n",
      "title_3\n",
      "-----\n",
      "result: 0\n"
     ]
    }
   ],
   "source": [
    "def generate_random_context():\n",
    "    return {\"user\": np.random.choice(genders),\n",
    "           \"time_of_day\": np.random.choice(time_of_days)}\n",
    "\n",
    "# this will simply demonstrate a single row in the dataset\n",
    "context = generate_random_context()\n",
    "print(context)\n",
    "\n",
    "action = np.random.choice(actions)\n",
    "print(action)\n",
    "\n",
    "print(\"-----\")\n",
    "# according to our cost function this setup will yield the following result:\n",
    "print(f\"result: {get_cost(context=context, action=action)}\")"
   ]
  },
  {
   "cell_type": "code",
   "execution_count": 135,
   "metadata": {},
   "outputs": [],
   "source": [
    "# now do this a whole lot of times in order to build a dataset\n",
    "n_rows = int(5000)\n",
    "dataset = []\n",
    "for _ in range(n_rows):\n",
    "    context = generate_random_context()\n",
    "    action = np.random.choice(actions)\n",
    "    \n",
    "    result = get_cost(context=context, action=action)\n",
    "    \n",
    "    context['action'] = action\n",
    "    context['result'] = result\n",
    "    \n",
    "    dataset.append(context)\n"
   ]
  },
  {
   "cell_type": "code",
   "execution_count": null,
   "metadata": {},
   "outputs": [],
   "source": []
  },
  {
   "cell_type": "code",
   "execution_count": 136,
   "metadata": {},
   "outputs": [
    {
     "data": {
      "text/html": [
       "<div>\n",
       "<style scoped>\n",
       "    .dataframe tbody tr th:only-of-type {\n",
       "        vertical-align: middle;\n",
       "    }\n",
       "\n",
       "    .dataframe tbody tr th {\n",
       "        vertical-align: top;\n",
       "    }\n",
       "\n",
       "    .dataframe thead th {\n",
       "        text-align: right;\n",
       "    }\n",
       "</style>\n",
       "<table border=\"1\" class=\"dataframe\">\n",
       "  <thead>\n",
       "    <tr style=\"text-align: right;\">\n",
       "      <th></th>\n",
       "      <th>user</th>\n",
       "      <th>time_of_day</th>\n",
       "      <th>action</th>\n",
       "      <th>result</th>\n",
       "    </tr>\n",
       "  </thead>\n",
       "  <tbody>\n",
       "    <tr>\n",
       "      <th>0</th>\n",
       "      <td>Male</td>\n",
       "      <td>morning</td>\n",
       "      <td>title_3</td>\n",
       "      <td>0</td>\n",
       "    </tr>\n",
       "    <tr>\n",
       "      <th>1</th>\n",
       "      <td>Female</td>\n",
       "      <td>morning</td>\n",
       "      <td>title_3</td>\n",
       "      <td>0</td>\n",
       "    </tr>\n",
       "    <tr>\n",
       "      <th>2</th>\n",
       "      <td>Male</td>\n",
       "      <td>afternoon</td>\n",
       "      <td>title_2</td>\n",
       "      <td>0</td>\n",
       "    </tr>\n",
       "    <tr>\n",
       "      <th>3</th>\n",
       "      <td>Male</td>\n",
       "      <td>afternoon</td>\n",
       "      <td>title_1</td>\n",
       "      <td>0</td>\n",
       "    </tr>\n",
       "    <tr>\n",
       "      <th>4</th>\n",
       "      <td>Male</td>\n",
       "      <td>morning</td>\n",
       "      <td>title_1</td>\n",
       "      <td>-1</td>\n",
       "    </tr>\n",
       "    <tr>\n",
       "      <th>...</th>\n",
       "      <td>...</td>\n",
       "      <td>...</td>\n",
       "      <td>...</td>\n",
       "      <td>...</td>\n",
       "    </tr>\n",
       "    <tr>\n",
       "      <th>4995</th>\n",
       "      <td>Female</td>\n",
       "      <td>morning</td>\n",
       "      <td>title_1</td>\n",
       "      <td>0</td>\n",
       "    </tr>\n",
       "    <tr>\n",
       "      <th>4996</th>\n",
       "      <td>Female</td>\n",
       "      <td>morning</td>\n",
       "      <td>title_4</td>\n",
       "      <td>0</td>\n",
       "    </tr>\n",
       "    <tr>\n",
       "      <th>4997</th>\n",
       "      <td>Female</td>\n",
       "      <td>morning</td>\n",
       "      <td>title_4</td>\n",
       "      <td>0</td>\n",
       "    </tr>\n",
       "    <tr>\n",
       "      <th>4998</th>\n",
       "      <td>Female</td>\n",
       "      <td>morning</td>\n",
       "      <td>title_4</td>\n",
       "      <td>0</td>\n",
       "    </tr>\n",
       "    <tr>\n",
       "      <th>4999</th>\n",
       "      <td>Male</td>\n",
       "      <td>morning</td>\n",
       "      <td>title_3</td>\n",
       "      <td>0</td>\n",
       "    </tr>\n",
       "  </tbody>\n",
       "</table>\n",
       "<p>5000 rows × 4 columns</p>\n",
       "</div>"
      ],
      "text/plain": [
       "        user time_of_day   action  result\n",
       "0       Male     morning  title_3       0\n",
       "1     Female     morning  title_3       0\n",
       "2       Male   afternoon  title_2       0\n",
       "3       Male   afternoon  title_1       0\n",
       "4       Male     morning  title_1      -1\n",
       "...      ...         ...      ...     ...\n",
       "4995  Female     morning  title_1       0\n",
       "4996  Female     morning  title_4       0\n",
       "4997  Female     morning  title_4       0\n",
       "4998  Female     morning  title_4       0\n",
       "4999    Male     morning  title_3       0\n",
       "\n",
       "[5000 rows x 4 columns]"
      ]
     },
     "execution_count": 136,
     "metadata": {},
     "output_type": "execute_result"
    }
   ],
   "source": [
    "# this simply converts the dataset to a pandas dataframe, and shows some example rows\n",
    "\n",
    "df = pd.DataFrame(dataset)\n",
    "df"
   ]
  },
  {
   "cell_type": "code",
   "execution_count": 137,
   "metadata": {},
   "outputs": [],
   "source": [
    "# now we could use a simple classification technique to model the wether users will open mails or ignore them\n",
    "# https://scikit-learn.org/stable/modules/tree.html\n",
    "from sklearn.tree import DecisionTreeClassifier\n",
    "from sklearn import tree"
   ]
  },
  {
   "cell_type": "code",
   "execution_count": 138,
   "metadata": {},
   "outputs": [
    {
     "data": {
      "text/html": [
       "<div>\n",
       "<style scoped>\n",
       "    .dataframe tbody tr th:only-of-type {\n",
       "        vertical-align: middle;\n",
       "    }\n",
       "\n",
       "    .dataframe tbody tr th {\n",
       "        vertical-align: top;\n",
       "    }\n",
       "\n",
       "    .dataframe thead th {\n",
       "        text-align: right;\n",
       "    }\n",
       "</style>\n",
       "<table border=\"1\" class=\"dataframe\">\n",
       "  <thead>\n",
       "    <tr style=\"text-align: right;\">\n",
       "      <th></th>\n",
       "      <th>user</th>\n",
       "      <th>time_of_day</th>\n",
       "      <th>action</th>\n",
       "    </tr>\n",
       "  </thead>\n",
       "  <tbody>\n",
       "    <tr>\n",
       "      <th>0</th>\n",
       "      <td>Male</td>\n",
       "      <td>morning</td>\n",
       "      <td>title_3</td>\n",
       "    </tr>\n",
       "    <tr>\n",
       "      <th>1</th>\n",
       "      <td>Female</td>\n",
       "      <td>morning</td>\n",
       "      <td>title_3</td>\n",
       "    </tr>\n",
       "    <tr>\n",
       "      <th>2</th>\n",
       "      <td>Male</td>\n",
       "      <td>afternoon</td>\n",
       "      <td>title_2</td>\n",
       "    </tr>\n",
       "    <tr>\n",
       "      <th>3</th>\n",
       "      <td>Male</td>\n",
       "      <td>afternoon</td>\n",
       "      <td>title_1</td>\n",
       "    </tr>\n",
       "    <tr>\n",
       "      <th>4</th>\n",
       "      <td>Male</td>\n",
       "      <td>morning</td>\n",
       "      <td>title_1</td>\n",
       "    </tr>\n",
       "    <tr>\n",
       "      <th>...</th>\n",
       "      <td>...</td>\n",
       "      <td>...</td>\n",
       "      <td>...</td>\n",
       "    </tr>\n",
       "    <tr>\n",
       "      <th>4995</th>\n",
       "      <td>Female</td>\n",
       "      <td>morning</td>\n",
       "      <td>title_1</td>\n",
       "    </tr>\n",
       "    <tr>\n",
       "      <th>4996</th>\n",
       "      <td>Female</td>\n",
       "      <td>morning</td>\n",
       "      <td>title_4</td>\n",
       "    </tr>\n",
       "    <tr>\n",
       "      <th>4997</th>\n",
       "      <td>Female</td>\n",
       "      <td>morning</td>\n",
       "      <td>title_4</td>\n",
       "    </tr>\n",
       "    <tr>\n",
       "      <th>4998</th>\n",
       "      <td>Female</td>\n",
       "      <td>morning</td>\n",
       "      <td>title_4</td>\n",
       "    </tr>\n",
       "    <tr>\n",
       "      <th>4999</th>\n",
       "      <td>Male</td>\n",
       "      <td>morning</td>\n",
       "      <td>title_3</td>\n",
       "    </tr>\n",
       "  </tbody>\n",
       "</table>\n",
       "<p>5000 rows × 3 columns</p>\n",
       "</div>"
      ],
      "text/plain": [
       "        user time_of_day   action\n",
       "0       Male     morning  title_3\n",
       "1     Female     morning  title_3\n",
       "2       Male   afternoon  title_2\n",
       "3       Male   afternoon  title_1\n",
       "4       Male     morning  title_1\n",
       "...      ...         ...      ...\n",
       "4995  Female     morning  title_1\n",
       "4996  Female     morning  title_4\n",
       "4997  Female     morning  title_4\n",
       "4998  Female     morning  title_4\n",
       "4999    Male     morning  title_3\n",
       "\n",
       "[5000 rows x 3 columns]"
      ]
     },
     "execution_count": 138,
     "metadata": {},
     "output_type": "execute_result"
    }
   ],
   "source": [
    "# fix the independent variable\n",
    "x = df.iloc[:,:-1]\n",
    "x"
   ]
  },
  {
   "cell_type": "code",
   "execution_count": 139,
   "metadata": {},
   "outputs": [
    {
     "data": {
      "text/html": [
       "<div>\n",
       "<style scoped>\n",
       "    .dataframe tbody tr th:only-of-type {\n",
       "        vertical-align: middle;\n",
       "    }\n",
       "\n",
       "    .dataframe tbody tr th {\n",
       "        vertical-align: top;\n",
       "    }\n",
       "\n",
       "    .dataframe thead th {\n",
       "        text-align: right;\n",
       "    }\n",
       "</style>\n",
       "<table border=\"1\" class=\"dataframe\">\n",
       "  <thead>\n",
       "    <tr style=\"text-align: right;\">\n",
       "      <th></th>\n",
       "      <th>is_male</th>\n",
       "      <th>is_morning</th>\n",
       "      <th>used_title1</th>\n",
       "      <th>used_title2</th>\n",
       "      <th>used_title3</th>\n",
       "    </tr>\n",
       "  </thead>\n",
       "  <tbody>\n",
       "    <tr>\n",
       "      <th>0</th>\n",
       "      <td>True</td>\n",
       "      <td>True</td>\n",
       "      <td>False</td>\n",
       "      <td>False</td>\n",
       "      <td>True</td>\n",
       "    </tr>\n",
       "    <tr>\n",
       "      <th>1</th>\n",
       "      <td>False</td>\n",
       "      <td>True</td>\n",
       "      <td>False</td>\n",
       "      <td>False</td>\n",
       "      <td>True</td>\n",
       "    </tr>\n",
       "    <tr>\n",
       "      <th>2</th>\n",
       "      <td>True</td>\n",
       "      <td>False</td>\n",
       "      <td>False</td>\n",
       "      <td>True</td>\n",
       "      <td>False</td>\n",
       "    </tr>\n",
       "    <tr>\n",
       "      <th>3</th>\n",
       "      <td>True</td>\n",
       "      <td>False</td>\n",
       "      <td>True</td>\n",
       "      <td>False</td>\n",
       "      <td>False</td>\n",
       "    </tr>\n",
       "    <tr>\n",
       "      <th>4</th>\n",
       "      <td>True</td>\n",
       "      <td>True</td>\n",
       "      <td>True</td>\n",
       "      <td>False</td>\n",
       "      <td>False</td>\n",
       "    </tr>\n",
       "    <tr>\n",
       "      <th>...</th>\n",
       "      <td>...</td>\n",
       "      <td>...</td>\n",
       "      <td>...</td>\n",
       "      <td>...</td>\n",
       "      <td>...</td>\n",
       "    </tr>\n",
       "    <tr>\n",
       "      <th>4995</th>\n",
       "      <td>False</td>\n",
       "      <td>True</td>\n",
       "      <td>True</td>\n",
       "      <td>False</td>\n",
       "      <td>False</td>\n",
       "    </tr>\n",
       "    <tr>\n",
       "      <th>4996</th>\n",
       "      <td>False</td>\n",
       "      <td>True</td>\n",
       "      <td>False</td>\n",
       "      <td>False</td>\n",
       "      <td>False</td>\n",
       "    </tr>\n",
       "    <tr>\n",
       "      <th>4997</th>\n",
       "      <td>False</td>\n",
       "      <td>True</td>\n",
       "      <td>False</td>\n",
       "      <td>False</td>\n",
       "      <td>False</td>\n",
       "    </tr>\n",
       "    <tr>\n",
       "      <th>4998</th>\n",
       "      <td>False</td>\n",
       "      <td>True</td>\n",
       "      <td>False</td>\n",
       "      <td>False</td>\n",
       "      <td>False</td>\n",
       "    </tr>\n",
       "    <tr>\n",
       "      <th>4999</th>\n",
       "      <td>True</td>\n",
       "      <td>True</td>\n",
       "      <td>False</td>\n",
       "      <td>False</td>\n",
       "      <td>True</td>\n",
       "    </tr>\n",
       "  </tbody>\n",
       "</table>\n",
       "<p>5000 rows × 5 columns</p>\n",
       "</div>"
      ],
      "text/plain": [
       "      is_male  is_morning  used_title1  used_title2  used_title3\n",
       "0        True        True        False        False         True\n",
       "1       False        True        False        False         True\n",
       "2        True       False        False         True        False\n",
       "3        True       False         True        False        False\n",
       "4        True        True         True        False        False\n",
       "...       ...         ...          ...          ...          ...\n",
       "4995    False        True         True        False        False\n",
       "4996    False        True        False        False        False\n",
       "4997    False        True        False        False        False\n",
       "4998    False        True        False        False        False\n",
       "4999     True        True        False        False         True\n",
       "\n",
       "[5000 rows x 5 columns]"
      ]
     },
     "execution_count": 139,
     "metadata": {},
     "output_type": "execute_result"
    }
   ],
   "source": [
    "# replace x with true/fale\n",
    "is_male = (x.iloc[:,0] == \"Male\").values\n",
    "is_morning = (x.iloc[:,1] == \"morning\").values\n",
    "df2 = pd.DataFrame()\n",
    "df2['is_male'] = is_male\n",
    "df2['is_morning'] = is_morning\n",
    "df2['used_title1'] = (x.iloc[:,2] == \"title_1\").values\n",
    "df2['used_title2'] = (x.iloc[:,2] == \"title_2\").values\n",
    "df2['used_title3'] = (x.iloc[:,2] == \"title_3\").values\n",
    "df2"
   ]
  },
  {
   "cell_type": "code",
   "execution_count": 140,
   "metadata": {},
   "outputs": [
    {
     "data": {
      "text/plain": [
       "array([0, 0, 0, ..., 0, 0, 0], dtype=int64)"
      ]
     },
     "execution_count": 140,
     "metadata": {},
     "output_type": "execute_result"
    }
   ],
   "source": [
    "# get the dependent variable\n",
    "y = df.iloc[:,-1].values\n",
    "y"
   ]
  },
  {
   "cell_type": "code",
   "execution_count": 141,
   "metadata": {},
   "outputs": [
    {
     "name": "stdout",
     "output_type": "stream",
     "text": [
      "0.261\n"
     ]
    },
    {
     "data": {
      "image/png": "[encoded data removed]",
      "text/plain": [
       "<Figure size 432x288 with 1 Axes>"
      ]
     },
     "metadata": {
      "needs_background": "light"
     },
     "output_type": "display_data"
    }
   ],
   "source": [
    "cost = 0\n",
    "b = []\n",
    "\n",
    "# for i in range(n_rows):\n",
    "#     if df['result'][i]== -1:\n",
    "#         #print (df['user'][i])\n",
    "#         cost+= -1\n",
    "#         ctr=-1*cost/n_rows\n",
    "#         a.append(ctr)\n",
    "#         print(-1*cost/n_rows)\n",
    "# # print(ctr)\n",
    "# # print(-1*cost/n_rows)\n",
    "for i in range(n_rows):\n",
    "    a= df['result'][i]\n",
    "#     print(a)\n",
    "    #print (df['user'][i])\n",
    "    cost+= a\n",
    "    ctr=-1*cost/n_rows\n",
    "    b.append(ctr)\n",
    "#     print(-1*cost/n_rows)\n",
    "print(ctr)\n",
    "\n",
    "def plot_ctr(num_iterations, ctr):\n",
    "    plt.plot(range(1,num_iterations+1), ctr)\n",
    "    plt.xlabel('num_emails', fontsize=14)\n",
    "    plt.ylabel('Rewared', fontsize=14)\n",
    "    plt.ylim([0,1])\n",
    "#     plt.legend(loc='upper center', bbox_to_anchor=(0.5, -0.07),fancybox=True, shadow=True, ncol=2)\n",
    "    \n",
    "plot_ctr(n_rows, b)"
   ]
  },
  {
   "cell_type": "markdown",
   "metadata": {},
   "source": [
    "# Decision tree"
   ]
  },
  {
   "cell_type": "code",
   "execution_count": 90,
   "metadata": {},
   "outputs": [],
   "source": [
    "clf = tree.DecisionTreeClassifier()\n",
    "clf = clf.fit(df2.values, y)"
   ]
  },
  {
   "cell_type": "code",
   "execution_count": 91,
   "metadata": {},
   "outputs": [
    {
     "data": {
      "text/plain": [
       "[Text(177.24705882352941, 199.32, 'X[2] <= 0.5\\ngini = 0.377\\nsamples = 10000\\nvalue = [2520, 7480]'),\n",
       " Text(98.47058823529412, 163.07999999999998, 'X[4] <= 0.5\\ngini = 0.28\\nsamples = 7454\\nvalue = [1253, 6201]'),\n",
       " Text(59.082352941176474, 126.83999999999999, 'X[0] <= 0.5\\ngini = 0.207\\nsamples = 4964\\nvalue = [583, 4381]'),\n",
       " Text(39.38823529411765, 90.6, 'X[1] <= 0.5\\ngini = 0.364\\nsamples = 2435\\nvalue = [583, 1852]'),\n",
       " Text(19.694117647058825, 54.359999999999985, 'gini = 0.0\\nsamples = 1246\\nvalue = [0, 1246]'),\n",
       " Text(59.082352941176474, 54.359999999999985, 'X[3] <= 0.5\\ngini = 0.5\\nsamples = 1189\\nvalue = [583, 606]'),\n",
       " Text(39.38823529411765, 18.119999999999976, 'gini = 0.0\\nsamples = 606\\nvalue = [0, 606]'),\n",
       " Text(78.7764705882353, 18.119999999999976, 'gini = 0.0\\nsamples = 583\\nvalue = [583, 0]'),\n",
       " Text(78.7764705882353, 90.6, 'gini = 0.0\\nsamples = 2529\\nvalue = [0, 2529]'),\n",
       " Text(137.85882352941178, 126.83999999999999, 'X[0] <= 0.5\\ngini = 0.393\\nsamples = 2490\\nvalue = [670, 1820]'),\n",
       " Text(118.16470588235295, 90.6, 'gini = 0.0\\nsamples = 1251\\nvalue = [0, 1251]'),\n",
       " Text(157.5529411764706, 90.6, 'X[1] <= 0.5\\ngini = 0.497\\nsamples = 1239\\nvalue = [670, 569]'),\n",
       " Text(137.85882352941178, 54.359999999999985, 'gini = 0.0\\nsamples = 670\\nvalue = [670, 0]'),\n",
       " Text(177.24705882352941, 54.359999999999985, 'gini = 0.0\\nsamples = 569\\nvalue = [0, 569]'),\n",
       " Text(256.02352941176474, 163.07999999999998, 'X[0] <= 0.5\\ngini = 0.5\\nsamples = 2546\\nvalue = [1267, 1279]'),\n",
       " Text(216.63529411764708, 126.83999999999999, 'X[1] <= 0.5\\ngini = 0.5\\nsamples = 1270\\nvalue = [635, 635]'),\n",
       " Text(196.94117647058823, 90.6, 'gini = 0.0\\nsamples = 635\\nvalue = [635, 0]'),\n",
       " Text(236.3294117647059, 90.6, 'gini = 0.0\\nsamples = 635\\nvalue = [0, 635]'),\n",
       " Text(295.4117647058824, 126.83999999999999, 'X[1] <= 0.5\\ngini = 0.5\\nsamples = 1276\\nvalue = [632, 644]'),\n",
       " Text(275.71764705882356, 90.6, 'gini = 0.0\\nsamples = 644\\nvalue = [0, 644]'),\n",
       " Text(315.1058823529412, 90.6, 'gini = 0.0\\nsamples = 632\\nvalue = [632, 0]')]"
      ]
     },
     "execution_count": 91,
     "metadata": {},
     "output_type": "execute_result"
    },
    {
     "data": {
      "image/png": "[encoded data removed]",
      "text/plain": [
       "<Figure size 432x288 with 1 Axes>"
      ]
     },
     "metadata": {
      "needs_background": "light"
     },
     "output_type": "display_data"
    }
   ],
   "source": [
    "# this is somewhat confusing as the default sci-kit decision tree does not really support categorical attributes\n",
    "tree.plot_tree(clf) "
   ]
  },
  {
   "cell_type": "code",
   "execution_count": 92,
   "metadata": {},
   "outputs": [
    {
     "data": {
      "text/plain": [
       "array([0], dtype=int64)"
      ]
     },
     "execution_count": 92,
     "metadata": {},
     "output_type": "execute_result"
    }
   ],
   "source": [
    "# predicted result for female, afternoon title_1 => -1\n",
    "clf.predict([[0,1,0,0,1]])"
   ]
  },
  {
   "cell_type": "code",
   "execution_count": 93,
   "metadata": {},
   "outputs": [
    {
     "data": {
      "text/plain": [
       "array([0], dtype=int64)"
      ]
     },
     "execution_count": 93,
     "metadata": {},
     "output_type": "execute_result"
    }
   ],
   "source": [
    "# predicted result for female, afternoon title_3 => 0\n",
    "clf.predict([[0,0,0,0,1]])"
   ]
  },
  {
   "cell_type": "markdown",
   "metadata": {},
   "source": [
    "# Logistic regression"
   ]
  },
  {
   "cell_type": "code",
   "execution_count": 71,
   "metadata": {},
   "outputs": [],
   "source": [
    "# https://scikit-learn.org/stable/modules/generated/sklearn.linear_model.LogisticRegression.html\n",
    "from sklearn.linear_model import LogisticRegression\n",
    "clf2 = LogisticRegression(random_state=0).fit(df2.values, y)"
   ]
  },
  {
   "cell_type": "code",
   "execution_count": 72,
   "metadata": {},
   "outputs": [
    {
     "data": {
      "text/plain": [
       "array([0], dtype=int64)"
      ]
     },
     "execution_count": 72,
     "metadata": {},
     "output_type": "execute_result"
    }
   ],
   "source": [
    "# same result for  female, afternoon title_1 => -1\n",
    "clf2.predict([[0,0,1,0,0]])"
   ]
  },
  {
   "cell_type": "code",
   "execution_count": 73,
   "metadata": {},
   "outputs": [
    {
     "data": {
      "text/plain": [
       "array([0], dtype=int64)"
      ]
     },
     "execution_count": 73,
     "metadata": {},
     "output_type": "execute_result"
    }
   ],
   "source": [
    "# and also result for female, afternoon title_3 => 0\n",
    "clf2.predict([[0,0,0,0,1]])"
   ]
  },
  {
   "cell_type": "markdown",
   "metadata": {},
   "source": [
    "# Comparison RL vs supervised learning\n",
    "\n",
    "This is not supposed to run but this gives an idea how I would handle the comparison"
   ]
  },
  {
   "cell_type": "code",
   "execution_count": 74,
   "metadata": {},
   "outputs": [
    {
     "ename": "NameError",
     "evalue": "name 'n_test_cases' is not defined",
     "output_type": "error",
     "traceback": [
      "\u001b[1;31m---------------------------------------------------------------------------\u001b[0m",
      "\u001b[1;31mNameError\u001b[0m                                 Traceback (most recent call last)",
      "\u001b[1;32m<ipython-input-74-30e817959b32>\u001b[0m in \u001b[0;36m<module>\u001b[1;34m\u001b[0m\n\u001b[1;32m----> 1\u001b[1;33m \u001b[1;32mfor\u001b[0m \u001b[0mi\u001b[0m \u001b[1;32min\u001b[0m \u001b[0mrange\u001b[0m\u001b[1;33m(\u001b[0m\u001b[0mn_test_cases\u001b[0m\u001b[1;33m)\u001b[0m\u001b[1;33m:\u001b[0m\u001b[1;33m\u001b[0m\u001b[1;33m\u001b[0m\u001b[0m\n\u001b[0m\u001b[0;32m      2\u001b[0m \u001b[1;33m\u001b[0m\u001b[0m\n\u001b[0;32m      3\u001b[0m     \u001b[0mprint\u001b[0m\u001b[1;33m(\u001b[0m\u001b[1;34m\"send email\"\u001b[0m\u001b[1;33m)\u001b[0m\u001b[1;33m\u001b[0m\u001b[1;33m\u001b[0m\u001b[0m\n\u001b[0;32m      4\u001b[0m     \u001b[0mcontext\u001b[0m \u001b[1;33m=\u001b[0m \u001b[1;33m...\u001b[0m\u001b[1;33m\u001b[0m\u001b[1;33m\u001b[0m\u001b[0m\n\u001b[0;32m      5\u001b[0m     \u001b[0mprint\u001b[0m\u001b[1;33m(\u001b[0m\u001b[1;34m\"update rl model\"\u001b[0m\u001b[1;33m)\u001b[0m\u001b[1;33m\u001b[0m\u001b[1;33m\u001b[0m\u001b[0m\n",
      "\u001b[1;31mNameError\u001b[0m: name 'n_test_cases' is not defined"
     ]
    }
   ],
   "source": [
    "for i in range(n_test_cases):\n",
    "    \n",
    "    print(\"send email\")\n",
    "    context = ...\n",
    "    print(\"update rl model\")\n",
    "    \n",
    "    if i % 100 == 0:\n",
    "        print(\"update supervised learning model every x mails\")\n",
    "        \n",
    "    score_rl = rl_result(context)\n",
    "    score_supervised = supervised_result(context)\n"
   ]
  },
  {
   "cell_type": "code",
   "execution_count": null,
   "metadata": {},
   "outputs": [],
   "source": []
  }
 ],
 "metadata": {
  "kernelspec": {
   "display_name": "Python 3",
   "language": "python",
   "name": "python3"
  },
  "language_info": {
   "codemirror_mode": {
    "name": "ipython",
    "version": 3
   },
   "file_extension": ".py",
   "mimetype": "text/x-python",
   "name": "python",
   "nbconvert_exporter": "python",
   "pygments_lexer": "ipython3",
   "version": "3.7.6"
  }
 },
 "nbformat": 4,
 "nbformat_minor": 4
}
